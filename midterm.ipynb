{
 "cells": [
  {
   "cell_type": "code",
   "execution_count": 1,
   "id": "initial_id",
   "metadata": {
    "ExecuteTime": {
     "end_time": "2024-03-07T03:59:37.899714Z",
     "start_time": "2024-03-07T03:59:37.894692Z"
    }
   },
   "outputs": [],
   "source": [
    "### NOTES ###\n",
    "# MAKE SURE TO RUN ALL CELLS\n",
    "# AUTHORS: Jack, Andrew, Lauren\n",
    "# VERSION: 1.0 (final)\n",
    "\n",
    "import os\n",
    "from numbers import Number\n",
    "from typing import List, Any, Dict, Callable, Union, Iterable\n",
    "\n",
    "import numpy as np\n",
    "from IPython.lib.display import Audio\n",
    "from numpy import ndarray, dtype\n",
    "from scipy.signal import sawtooth, square, gausspulse\n",
    "from ipywidgets import widgets, interact, IntSlider, FloatSlider, ToggleButton, Dropdown\n",
    "\n",
    "### CONSTANTS ###\n",
    "NOTES = {b: a for a, b in enumerate(('C', 'C#', 'D', 'D#', 'E', 'F', 'F#', 'G', 'G#', 'A', 'A#', 'B'))}\n",
    "NOTES.update({b: a for a, b in enumerate(('B#', 'Db', 'D', 'Eb', 'Fb', 'E#', 'Gb', 'G', 'Ab', 'A', 'Bb', 'Cb'))})\n",
    "REST = \"X\"\n",
    "DEFAULT_DROPDOWN = \"Select an option\"\n",
    "SHAPES = {'saw': sawtooth, 'square': square, 'pulse': gausspulse, 'sinusoid': np.sin}"
   ]
  },
  {
   "cell_type": "code",
   "execution_count": 2,
   "id": "79f7f9435d7a15aa",
   "metadata": {
    "ExecuteTime": {
     "end_time": "2024-03-07T03:59:37.915176Z",
     "start_time": "2024-03-07T03:59:37.901083Z"
    },
    "collapsed": false
   },
   "outputs": [],
   "source": [
    "class Synth:\n",
    "    width: float\n",
    "    shape: Callable\n",
    "    fm: dict[str, float]\n",
    "    delay: dict[str, float]\n",
    "    adsr: list[float]\n",
    "    rev: bool\n",
    "    bpm: int\n",
    "    length: int\n",
    "    file: str\n",
    "    result: ndarray[Any, dtype[Any]]\n",
    "    sequence: list[tuple[tuple[float, ...], float]]\n",
    "    global_rate: int\n",
    "\n",
    "    def __init__(self, global_rate=48000):\n",
    "        # Set all defaults here\n",
    "        self.file = ''\n",
    "        self.global_rate = global_rate\n",
    "        self.sequence = []\n",
    "        self.length = 0\n",
    "        self.result = np.array([])\n",
    "        self.bpm = 120\n",
    "        self.rev = False\n",
    "        self.adsr = [0, 0, 1, 0]\n",
    "        self.delay = dict(mix=0, length=0, count=0)\n",
    "        self.fm = dict(index=2.234)\n",
    "        self.shape = sawtooth \n",
    "        self.width = 0.5\n",
    "        \n",
    "        \n",
    "    def set_sequence(self, file_path: str):\n",
    "        \"\"\"\n",
    "        Parses a file containing notes and durations and sets the sequence for playback.\n",
    "        \n",
    "        Stores it in a sequence variable which is formatted like so:\n",
    "            [([NOTE_A, NOTE_B, ...], NOTE_LENGTH), ...]\n",
    "        \n",
    "        :param file_path: Path to a txt file containing the sequence information.\n",
    "        \"\"\"\n",
    "        if not file_path or file_path == DEFAULT_DROPDOWN:\n",
    "            return\n",
    "        \n",
    "        # Reset score\n",
    "        self.sequence = [] \n",
    "        self.file = file_path\n",
    "        self.length = 0\n",
    "        with open(file_path, 'r') as file:\n",
    "            for line in file:\n",
    "                # Split each line\n",
    "                parts = line.strip().split()\n",
    "                self.sequence.append((tuple(self.note_to_freq(note) for note in parts[:-1]),  240 / self.bpm * float(parts[-1])))\n",
    "                # Add the length of the last added item to the total length (for later use)\n",
    "                self.length += self.sequence[-1][1]\n",
    "        # print(f\"New length {self.length} based on bpm={self.bpm}\")\n",
    "    \n",
    "    ### The following methods are simply setters that interface with the UI\n",
    "    \n",
    "    def set_shape(self, shape: str):\n",
    "        self.shape = SHAPES[shape]\n",
    "    \n",
    "    def set_width(self, width: float):\n",
    "        self.width = width\n",
    "    \n",
    "    def set_fm(self, key, val: float):\n",
    "        if key in self.fm:\n",
    "            self.fm[key] = val\n",
    "    \n",
    "    def set_bpm(self, bpm: int):\n",
    "        self.bpm = bpm\n",
    "        # Have to reset timings\n",
    "        self.set_sequence(self.file)\n",
    "    \n",
    "    def set_reversed(self, rev: bool):\n",
    "        self.rev = rev\n",
    "    \n",
    "    def set_delay(self, key, val: float):\n",
    "        if key in self.delay:\n",
    "            self.delay[key] = val\n",
    "    \n",
    "    def set_adsr(self, *args: list[float]):\n",
    "        if len(args) == 4:\n",
    "            # print(\"new ADSR\", self.adsr)\n",
    "            self.adsr = args\n",
    "        else:\n",
    "            # print(\"old ADSR\", self.adsr)\n",
    "            pass\n",
    "\n",
    "    @staticmethod\n",
    "    def note_to_freq(note: str) -> float:\n",
    "        \"\"\"\n",
    "        Converts a string representation of a note to a floating point frequency.\n",
    "        \n",
    "        :param note: note in the form [CHARACTER(S)][OCTAVE] e.g. C#4\n",
    "        :return: frequency associated with MIDI value\n",
    "        \"\"\"\n",
    "        if note == REST:\n",
    "            return 0\n",
    "        # Get the number associated with the scale degree\n",
    "        letter = NOTES[note[:-2] if note.find('-') > -1 else note[:-1]]\n",
    "        # Get the octave (number) associated with the string\n",
    "        octave = int(note[-2:] if note.find('-') > -1 else note[-1:])\n",
    "        # Offset the pitch appropriately\n",
    "        pitch = 12 * (octave + 1) + letter\n",
    "        # MIDI to frequency\n",
    "        return 440 * 2 ** ((pitch - 69) / 12)\n",
    "\n",
    "    def calculate_env(self, dur: float, a: float, d: float, s: float, r: float) -> np.ndarray:\n",
    "        \"\"\"\n",
    "        Calculates the shape of the envelope for the individual note passed in.\n",
    "        \n",
    "        Fits to size by extending/trimming the sustain level to fit the note length when necessary. \n",
    "        \n",
    "        :param dur: duration of the note (seconds)\n",
    "        :param a: attack (in seconds)\n",
    "        :param d: delay (in seconds)\n",
    "        :param s: sustain level\n",
    "        :param r: release\n",
    "        :return: an array representing the shape of the envelope\n",
    "        \"\"\"\n",
    "        samples = int(self.global_rate * dur)\n",
    "        attack = np.linspace(0, 1, int(self.global_rate * a))\n",
    "        decay = np.linspace(1, s, int(self.global_rate * d))\n",
    "        if dur < a + d:\n",
    "            env = np.concatenate((attack, decay))\n",
    "            release = np.linspace(env[-1], 0, int(self.global_rate*r))\n",
    "            env = np.concatenate((env[:samples], release))\n",
    "        else:\n",
    "            sussy = np.full(int((dur - a - d) * self.global_rate), s)\n",
    "            release = np.linspace(s, 0, int(self.global_rate*r))\n",
    "            env = np.concatenate([attack, decay, sussy, release])\n",
    "        return env\n",
    "\n",
    "    def delay_audio(self, audio, ms: int, mix: float, delays: int) -> np.ndarray:\n",
    "        \"\"\"\n",
    "        Delays the audio signal if elected.\n",
    "        \n",
    "        :param audio: input signal\n",
    "        :param ms: length to delay each voice by\n",
    "        :param mix: % of output signal that is wet\n",
    "        :param delays: number of voices\n",
    "        :return: the output signal (w/ delay mixed in)\n",
    "        \"\"\"\n",
    "        \n",
    "        # Conversion to samples\n",
    "        sec = ms / 1000.0\n",
    "        samples = int(delays * sec * self.global_rate)\n",
    "        pad = np.zeros(samples)\n",
    "        dry = np.concatenate((audio, pad), axis=0)\n",
    "        wet = np.zeros(dry.size)\n",
    "        for delay in range(delays):\n",
    "            # Add each delayed signal to the wet result\n",
    "            wet += np.roll(dry, (delay+1)*int(sec*self.global_rate))/(1+delay)\n",
    "        # Calculates the mix between wet and dry signals\n",
    "        output = (1-mix)*dry + mix*wet\n",
    "        return output\n",
    "\n",
    "    def _bell_base_generator(self) -> np.ndarray:\n",
    "        \"\"\"\n",
    "        Private method that performs all the calculations in series.\n",
    "        \n",
    "        :return: the resulting synth sound, as an array\n",
    "        \"\"\"\n",
    "        # Get ADSR values\n",
    "        attack, decay, sustain, release = tuple(self.adsr)\n",
    "        # Get delay values\n",
    "        ms, delays, mix = self.delay['length'], self.delay['count'], self.delay['mix']\n",
    "        # Get FM values\n",
    "        index = self.fm['index']\n",
    "        # Useful variable for timing purposes\n",
    "        dsr = [decay, sustain, release]\n",
    "        curr_samples = 0\n",
    "        pre_processed = np.zeros(int(self.global_rate * (self.length + dsr[2])))\n",
    "\n",
    "        # Go through each series of notes\n",
    "        for chord in self.sequence:\n",
    "            # Total duration of the chord determined by chord length + release\n",
    "            dur = chord[1] + dsr[2]\n",
    "            da_chord = np.zeros(int(self.global_rate * dur))\n",
    "            t = np.linspace(0, dur, int(self.global_rate * dur))\n",
    "            for freq in chord[0]:\n",
    "                if freq == 0:\n",
    "                    # This means there is a rest\n",
    "                    da_chord += np.zeros(int(self.global_rate * (chord[1] + dsr[2])))\n",
    "                    break\n",
    "                mod = index\n",
    "                \n",
    "                # Sinusoid don't allow for PWM thus 2 arguments won't work every time\n",
    "                try:\n",
    "                    mod *= self.shape(2 * np.pi * freq * 2 * (t + 1 / (freq * 8)), self.width)\n",
    "                except TypeError:\n",
    "                    self.shape(2 * np.pi * freq * 2 * (t + 1 / (freq * 8)))\n",
    "                 \n",
    "                try:\n",
    "                    fm = self.shape(2 * np.pi * freq * (t + 1 / (freq * 4)) + mod, self.width)\n",
    "                except TypeError:\n",
    "                    fm = self.shape(2 * np.pi * freq * (t + 1 / (freq * 4)) + mod)\n",
    "                da_chord += fm\n",
    "            \n",
    "            # Get the envelope associated with this chord\n",
    "            env = self.calculate_env(chord[1], attack, *dsr)\n",
    "            \n",
    "            # Aligns envelope array if there is an off-by-one error (due to integer flooring ¯\\_(ツ)_/¯)\n",
    "            diff1 = len(env) - len(da_chord)\n",
    "            if diff1 > 0:\n",
    "                env = env[diff1:]\n",
    "            elif diff1 < 0:\n",
    "                env = np.concatenate((np.zeros(-diff1), env))\n",
    "            env *= da_chord\n",
    "            pad = np.concatenate((env, np.zeros(int(int(self.length * self.global_rate) - self.global_rate * chord[1]))))\n",
    "            rolled = np.roll(pad, curr_samples)\n",
    "            curr_samples += int(chord[1] * self.global_rate)\n",
    "            \n",
    "            # See above comment\n",
    "            diff = len(pre_processed) - len(rolled)\n",
    "            if diff == 1:\n",
    "                rolled = np.concatenate((np.array([0]), rolled))\n",
    "            elif diff == -1:\n",
    "                rolled = rolled[1:]\n",
    "            pre_processed += rolled\n",
    "        \n",
    "        # Delay the audio\n",
    "        post_processed = self.delay_audio(pre_processed, ms, mix=mix, delays=delays) \n",
    "        \n",
    "        # Reverse the audio\n",
    "        if self.rev:\n",
    "            post_processed = post_processed[::-1]\n",
    "        \n",
    "        # Return the final audio after processing\n",
    "        return post_processed\n",
    "    \n",
    "    def generate_audio(self) -> Audio:\n",
    "        \"\"\"\n",
    "        This method interfaces with the UI to indicate when to request a new audio file.\n",
    "        \n",
    "        :return: The output audio object\n",
    "        \"\"\"\n",
    "        if self.file:\n",
    "            return Audio(self._bell_base_generator(), rate=self.global_rate)\n",
    "        else:\n",
    "            print(\"File has not been selected.\")\n",
    "        "
   ]
  },
  {
   "cell_type": "code",
   "execution_count": 3,
   "id": "dda38db8f2d18391",
   "metadata": {
    "ExecuteTime": {
     "end_time": "2024-03-07T03:59:37.924255Z",
     "start_time": "2024-03-07T03:59:37.916561Z"
    },
    "collapsed": false
   },
   "outputs": [],
   "source": [
    "class SynthUI:\n",
    "    activate_button: ToggleButton\n",
    "    file_dropdown: Dropdown\n",
    "    index_slider: FloatSlider\n",
    "    width_slider: FloatSlider\n",
    "    shape_dropdown: Dropdown\n",
    "    del_mix_slider: FloatSlider\n",
    "    del_count_slider: IntSlider\n",
    "    del_length_slider: IntSlider\n",
    "    rev_toggle: ToggleButton\n",
    "    adsr_sliders: list[FloatSlider]\n",
    "    bpm_slider: IntSlider\n",
    "    text_files: list[str]\n",
    "    synth: Synth\n",
    "\n",
    "    def __init__(self, synth):\n",
    "        self.synth = synth\n",
    "        self.text_files = list(file for file in os.listdir('.') if file[-4:] == '.txt')\n",
    "        \n",
    "        # BPM\n",
    "        self.bpm_slider = widgets.IntSlider(\n",
    "            value=self.synth.bpm,\n",
    "            min=60,\n",
    "            max=240,\n",
    "            step=1,\n",
    "            description='BPM:',\n",
    "            continuous_update=False\n",
    "        )\n",
    "        \n",
    "        # Envelope\n",
    "        self.adsr_sliders = [\n",
    "            widgets.FloatSlider(\n",
    "                value=getattr(self.synth, 'adsr')[i],\n",
    "                min=0,\n",
    "                max=val,\n",
    "                step=0.01,\n",
    "                description=label,\n",
    "                continuous_update=False\n",
    "            ) for i, (label, val) in enumerate([('Attack:', 1), ('Decay:', 5), ('Sustain:', 1), ('Release:', 5)])\n",
    "        ]\n",
    "\n",
    "        # Reversed FX\n",
    "        self.rev_toggle = widgets.ToggleButton(\n",
    "            value=self.synth.rev,\n",
    "            description='Reverse Audio',\n",
    "            tooltip='Reverse the sequence'\n",
    "        )        \n",
    "        \n",
    "        # Delay\n",
    "        self.del_length_slider = widgets.IntSlider(\n",
    "            value=self.synth.delay['length'],\n",
    "            min=0,\n",
    "            max=100,\n",
    "            step=1,\n",
    "            description='Delay (ms):',\n",
    "            continuous_update=False\n",
    "        )\n",
    "        \n",
    "        self.del_count_slider = widgets.IntSlider(\n",
    "            value=self.synth.delay['count'],\n",
    "            min=0,\n",
    "            max=10,\n",
    "            step=1,\n",
    "            description='Delay #:',\n",
    "            continuous_update=False\n",
    "        )\n",
    "        \n",
    "        self.del_mix_slider = widgets.FloatSlider(\n",
    "            value=self.synth.delay['mix'],\n",
    "            min=0,\n",
    "            max=1,\n",
    "            step=0.01,\n",
    "            description='Delay Mix:',\n",
    "            continuous_update=False\n",
    "        )\n",
    "        \n",
    "        # Shape Selection\n",
    "        self.shape_dropdown = widgets.Dropdown(\n",
    "            options=SHAPES.keys(),\n",
    "            value='saw',\n",
    "            description='Shape:',\n",
    "        )\n",
    "        \n",
    "        # PWM\n",
    "        self.width_slider = widgets.FloatSlider(\n",
    "                value=getattr(self.synth, 'width'),\n",
    "                min=0,\n",
    "                max=1,\n",
    "                step=0.01,\n",
    "                description='Pulse Width',\n",
    "                continuous_update=False\n",
    "            ) \n",
    "        \n",
    "        # FM\n",
    "        self.index_slider = widgets.FloatSlider(\n",
    "                value=getattr(self.synth, 'fm')['index'],\n",
    "                min=0,\n",
    "                max=10,\n",
    "                step=0.0001,\n",
    "                description='Index',\n",
    "                continuous_update=False\n",
    "            ) \n",
    "        \n",
    "        # File Selection\n",
    "        self.file_dropdown = widgets.Dropdown(\n",
    "            options=[DEFAULT_DROPDOWN] + self.text_files,\n",
    "            value=DEFAULT_DROPDOWN,\n",
    "            description='Score file:',\n",
    "        )\n",
    "        \n",
    "        # Button to active everything\n",
    "        self.activate_button = widgets.ToggleButton(value=False, description=\"Generate audio\")\n",
    "        \n",
    "        # Display the UI - remains in this state for the remainder of the program\n",
    "        self.display_ui()\n",
    "        \n",
    "    def display_ui(self):\n",
    "        \"\"\"\n",
    "        Displays all the components to the user, allowing for manipulation.\n",
    "        \"\"\"\n",
    "        \n",
    "        display(widgets.Label(\"Sound\"))\n",
    "        interact(self.synth.set_shape, shape=self.shape_dropdown)\n",
    "        interact(self.synth.set_width, width=self.width_slider)\n",
    "        interact(self.update_fm_index, val=self.index_slider)\n",
    "        \n",
    "        display(widgets.Label(\"Envelope\"))\n",
    "        for slider in self.adsr_sliders:\n",
    "            interact(self.update_adsr, active=slider)\n",
    "            \n",
    "        display(widgets.Label(\"FX\"))\n",
    "        interact(self.synth.set_reversed, rev=self.rev_toggle)\n",
    "        interact(self.update_del_ms, val=self.del_length_slider)\n",
    "        interact(self.update_del_count, val=self.del_count_slider)\n",
    "        interact(self.update_del_mix, val=self.del_mix_slider)\n",
    "        \n",
    "        display(widgets.Label(\"Score\"))\n",
    "        interact(self.synth.set_bpm, bpm=self.bpm_slider)\n",
    "        interact(self.synth.set_sequence, file_path=self.file_dropdown)\n",
    "        interact(self.activate, state=self.activate_button)\n",
    "    \n",
    "    \n",
    "    ### The following methods are intermediary to the synth class because interact is just weird like that\n",
    "    \n",
    "    def update_fm_index(self, val):\n",
    "        self.synth.set_fm('index', val)\n",
    "        \n",
    "    def update_del_ms(self, val):\n",
    "        self.synth.set_delay('length', val)\n",
    "    \n",
    "    def update_del_count(self, val):\n",
    "        self.synth.set_delay('count', val)\n",
    "        \n",
    "    def update_del_mix(self, val):\n",
    "        self.synth.set_delay('mix', val)\n",
    "    \n",
    "    def update_adsr(self, active):\n",
    "        if active:\n",
    "            self.synth.set_adsr(*[slider.value for slider in self.adsr_sliders])\n",
    "    \n",
    "    def activate(self, state):\n",
    "        if state:\n",
    "            res = self.synth.generate_audio()\n",
    "            if res:\n",
    "                display(res)\n",
    "            # self.activate_button.value = False\n"
   ]
  },
  {
   "cell_type": "code",
   "execution_count": 4,
   "id": "840e346fdb47d229",
   "metadata": {
    "ExecuteTime": {
     "end_time": "2024-03-07T03:59:37.993767Z",
     "start_time": "2024-03-07T03:59:37.925085Z"
    },
    "collapsed": false
   },
   "outputs": [
    {
     "data": {
      "application/vnd.jupyter.widget-view+json": {
       "model_id": "fc080283a3d245dea5a82e3becfe29d5",
       "version_major": 2,
       "version_minor": 0
      },
      "text/plain": [
       "Label(value='Sound')"
      ]
     },
     "metadata": {},
     "output_type": "display_data"
    },
    {
     "data": {
      "application/vnd.jupyter.widget-view+json": {
       "model_id": "1674d21f252242a6993ea9cd19fd1046",
       "version_major": 2,
       "version_minor": 0
      },
      "text/plain": [
       "interactive(children=(Dropdown(description='Shape:', options=('saw', 'square', 'pulse', 'sinusoid'), value='sa…"
      ]
     },
     "metadata": {},
     "output_type": "display_data"
    },
    {
     "data": {
      "application/vnd.jupyter.widget-view+json": {
       "model_id": "7aed5c0c2a464f5e94a0305f37a01917",
       "version_major": 2,
       "version_minor": 0
      },
      "text/plain": [
       "interactive(children=(FloatSlider(value=0.5, continuous_update=False, description='Pulse Width', max=1.0, step…"
      ]
     },
     "metadata": {},
     "output_type": "display_data"
    },
    {
     "data": {
      "application/vnd.jupyter.widget-view+json": {
       "model_id": "52554ad964f441a7b05069cfafc4a227",
       "version_major": 2,
       "version_minor": 0
      },
      "text/plain": [
       "interactive(children=(FloatSlider(value=2.234, continuous_update=False, description='Index', max=10.0, step=0.…"
      ]
     },
     "metadata": {},
     "output_type": "display_data"
    },
    {
     "data": {
      "application/vnd.jupyter.widget-view+json": {
       "model_id": "0b5cecf245ef464e8e5ecfafdd28c30c",
       "version_major": 2,
       "version_minor": 0
      },
      "text/plain": [
       "Label(value='Envelope')"
      ]
     },
     "metadata": {},
     "output_type": "display_data"
    },
    {
     "data": {
      "application/vnd.jupyter.widget-view+json": {
       "model_id": "1ce5837fb9c24b7dbca0efdd1377d295",
       "version_major": 2,
       "version_minor": 0
      },
      "text/plain": [
       "interactive(children=(FloatSlider(value=0.0, continuous_update=False, description='Attack:', max=1.0, step=0.0…"
      ]
     },
     "metadata": {},
     "output_type": "display_data"
    },
    {
     "data": {
      "application/vnd.jupyter.widget-view+json": {
       "model_id": "e84111d64e914ff7b04fb4cdf23ba307",
       "version_major": 2,
       "version_minor": 0
      },
      "text/plain": [
       "interactive(children=(FloatSlider(value=0.0, continuous_update=False, description='Decay:', max=5.0, step=0.01…"
      ]
     },
     "metadata": {},
     "output_type": "display_data"
    },
    {
     "data": {
      "application/vnd.jupyter.widget-view+json": {
       "model_id": "3ee05cf756414d73a30d5ddd3202d915",
       "version_major": 2,
       "version_minor": 0
      },
      "text/plain": [
       "interactive(children=(FloatSlider(value=1.0, continuous_update=False, description='Sustain:', max=1.0, step=0.…"
      ]
     },
     "metadata": {},
     "output_type": "display_data"
    },
    {
     "data": {
      "application/vnd.jupyter.widget-view+json": {
       "model_id": "d51e57d4414e46599c30651d80bd1275",
       "version_major": 2,
       "version_minor": 0
      },
      "text/plain": [
       "interactive(children=(FloatSlider(value=0.0, continuous_update=False, description='Release:', max=5.0, step=0.…"
      ]
     },
     "metadata": {},
     "output_type": "display_data"
    },
    {
     "data": {
      "application/vnd.jupyter.widget-view+json": {
       "model_id": "17d4d006c4e647069d390da338f82c96",
       "version_major": 2,
       "version_minor": 0
      },
      "text/plain": [
       "Label(value='FX')"
      ]
     },
     "metadata": {},
     "output_type": "display_data"
    },
    {
     "data": {
      "application/vnd.jupyter.widget-view+json": {
       "model_id": "0050c8dadaca4cb181a2e2b73bb37be1",
       "version_major": 2,
       "version_minor": 0
      },
      "text/plain": [
       "interactive(children=(ToggleButton(value=False, description='Reverse Audio', tooltip='Reverse the sequence'), …"
      ]
     },
     "metadata": {},
     "output_type": "display_data"
    },
    {
     "data": {
      "application/vnd.jupyter.widget-view+json": {
       "model_id": "e6cde1810c754c989f6ae0b2af57c80a",
       "version_major": 2,
       "version_minor": 0
      },
      "text/plain": [
       "interactive(children=(IntSlider(value=0, continuous_update=False, description='Delay (ms):'), Output()), _dom_…"
      ]
     },
     "metadata": {},
     "output_type": "display_data"
    },
    {
     "data": {
      "application/vnd.jupyter.widget-view+json": {
       "model_id": "5dc34af00cc84499be5e5bc671a28301",
       "version_major": 2,
       "version_minor": 0
      },
      "text/plain": [
       "interactive(children=(IntSlider(value=0, continuous_update=False, description='Delay #:', max=10), Output()), …"
      ]
     },
     "metadata": {},
     "output_type": "display_data"
    },
    {
     "data": {
      "application/vnd.jupyter.widget-view+json": {
       "model_id": "e88d14bba95f4d4394f929c88bb70af0",
       "version_major": 2,
       "version_minor": 0
      },
      "text/plain": [
       "interactive(children=(FloatSlider(value=0.0, continuous_update=False, description='Delay Mix:', max=1.0, step=…"
      ]
     },
     "metadata": {},
     "output_type": "display_data"
    },
    {
     "data": {
      "application/vnd.jupyter.widget-view+json": {
       "model_id": "4a01287830254b0da99613ddfbec52d2",
       "version_major": 2,
       "version_minor": 0
      },
      "text/plain": [
       "Label(value='Score')"
      ]
     },
     "metadata": {},
     "output_type": "display_data"
    },
    {
     "data": {
      "application/vnd.jupyter.widget-view+json": {
       "model_id": "e091a5e2e5b9442181f620785c27c7fa",
       "version_major": 2,
       "version_minor": 0
      },
      "text/plain": [
       "interactive(children=(IntSlider(value=120, continuous_update=False, description='BPM:', max=240, min=60), Outp…"
      ]
     },
     "metadata": {},
     "output_type": "display_data"
    },
    {
     "data": {
      "application/vnd.jupyter.widget-view+json": {
       "model_id": "37545d9c2d8a457691094641713faccd",
       "version_major": 2,
       "version_minor": 0
      },
      "text/plain": [
       "interactive(children=(Dropdown(description='Score file:', options=('Select an option', 'demo.txt', 'sean.txt',…"
      ]
     },
     "metadata": {},
     "output_type": "display_data"
    },
    {
     "data": {
      "application/vnd.jupyter.widget-view+json": {
       "model_id": "fe8fae8fde5e43d4a957b02f5ab1cdfa",
       "version_major": 2,
       "version_minor": 0
      },
      "text/plain": [
       "interactive(children=(ToggleButton(value=False, description='Generate audio'), Output()), _dom_classes=('widge…"
      ]
     },
     "metadata": {},
     "output_type": "display_data"
    }
   ],
   "source": [
    "# THIS CELL INITS THE SYNTH\n",
    "synth = Synth()\n",
    "synth_ui = SynthUI(synth)"
   ]
  },
  {
   "cell_type": "markdown",
   "id": "314ef6ecdf1b8f78",
   "metadata": {
    "collapsed": false
   },
   "source": [
    "## How to use:\n",
    "1. Edit parameters\n",
    "2. Click generate to hear the result\n",
    "3. To update with new parameters, double-click generate"
   ]
  },
  {
   "cell_type": "code",
   "execution_count": null,
   "id": "498595ccc936a123",
   "metadata": {
    "collapsed": false
   },
   "outputs": [],
   "source": []
  }
 ],
 "metadata": {
  "kernelspec": {
   "display_name": "Python 3 (ipykernel)",
   "language": "python",
   "name": "python3"
  },
  "language_info": {
   "codemirror_mode": {
    "name": "ipython",
    "version": 3
   },
   "file_extension": ".py",
   "mimetype": "text/x-python",
   "name": "python",
   "nbconvert_exporter": "python",
   "pygments_lexer": "ipython3",
   "version": "3.9.18"
  }
 },
 "nbformat": 4,
 "nbformat_minor": 5
}
