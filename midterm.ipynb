{
 "cells": [
  {
   "cell_type": "code",
   "execution_count": 1,
   "id": "initial_id",
   "metadata": {
    "ExecuteTime": {
     "end_time": "2024-03-06T22:39:09.198954Z",
     "start_time": "2024-03-06T22:39:08.801560Z"
    }
   },
   "outputs": [],
   "source": [
    "### NOTES ###\n",
    "# MAKE SURE TO RUN ALL CELLS\n",
    "# AUTHORS: Jack, Andrew, Lauren\n",
    "# VERSION: 1.0 (final)\n",
    "\n",
    "import os\n",
    "from typing import List, Any\n",
    "\n",
    "import numpy as np\n",
    "from IPython.lib.display import Audio\n",
    "from numpy import ndarray, dtype\n",
    "from scipy.signal import sawtooth\n",
    "from ipywidgets import widgets, interact\n",
    "\n",
    "### CONSTANTS ###\n",
    "NOTES = {b: a for a, b in enumerate(('C', 'C#', 'D', 'D#', 'E', 'F', 'F#', 'G', 'G#', 'A', 'A#', 'B'))}\n",
    "NOTES.update({b: a for a, b in enumerate(('B#', 'Db', 'D', 'Eb', 'Fb', 'E#', 'Gb', 'G', 'Ab', 'A', 'Bb', 'Cb'))})\n",
    "REST = \"X\"\n",
    "DEFAULT_DROPDOWN = \"Select an option\""
   ]
  },
  {
   "cell_type": "code",
   "execution_count": 2,
   "id": "79f7f9435d7a15aa",
   "metadata": {
    "ExecuteTime": {
     "end_time": "2024-03-07T00:29:20.079434Z",
     "start_time": "2024-03-07T00:29:20.061289Z"
    },
    "collapsed": false,
    "jupyter": {
     "outputs_hidden": false
    }
   },
   "outputs": [],
   "source": [
    "class Synth:\n",
    "    result: ndarray[Any, dtype[Any]]\n",
    "    sequence: list[tuple[tuple[float, ...], float]]\n",
    "    global_rate: int\n",
    "\n",
    "    def __init__(self, global_rate=48000):\n",
    "        self.file = None\n",
    "        self.global_rate = global_rate\n",
    "        self.sequence = []\n",
    "        self.length = 0\n",
    "        self.result = np.array([])\n",
    "        self.bpm = 120\n",
    "        self.rev = False\n",
    "        self.adsr = [0, 0, 1, 0]\n",
    "        self.delay = dict(mix=0, length=0, count=0)\n",
    "        \n",
    "        \n",
    "    def set_sequence(self, file_path):\n",
    "        \"\"\"\n",
    "        Parses a file containing notes and durations and sets the sequence for playback.\n",
    "        \n",
    "        :param file_path: Path to a txt file containing the sequence information.\n",
    "        \"\"\"\n",
    "        if not file_path or file_path == DEFAULT_DROPDOWN:\n",
    "            return\n",
    "        \n",
    "        self.sequence = [] \n",
    "        self.file = file_path\n",
    "        self.length = 0\n",
    "        with open(file_path, 'r') as file:\n",
    "            for line in file:\n",
    "                parts = line.strip().split()\n",
    "                self.sequence.append((tuple(self.note_to_freq(note) for note in parts[:-1]),  240 / self.bpm * float(parts[-1])))\n",
    "                self.length += self.sequence[-1][1]\n",
    "        # print(f\"New length {self.length} based on bpm={self.bpm}\")\n",
    "    \n",
    "    def set_bpm(self, bpm):\n",
    "        self.bpm = bpm\n",
    "        # Have to reset timings\n",
    "        self.set_sequence(self.file)\n",
    "    \n",
    "    def set_reversed(self, rev):\n",
    "        self.rev = rev\n",
    "    \n",
    "    def set_delay(self, key, val):\n",
    "        if key in self.delay:\n",
    "            self.delay[key] = val\n",
    "    \n",
    "    def set_adsr(self, *args):\n",
    "        if len(args) == 4:\n",
    "            # print(\"new ADSR\", self.adsr)\n",
    "            self.adsr = args\n",
    "        else:\n",
    "            # print(\"old ADSR\", self.adsr)\n",
    "            pass\n",
    "\n",
    "    @staticmethod\n",
    "    def note_to_freq(note: str) -> float:\n",
    "        \"\"\"\n",
    "        Converts a string representation of a note to a floating point frequency.\n",
    "        \n",
    "        :param note: note in the form [CHARACTER(S)][OCTAVE] e.g. C#4\n",
    "        :return: frequency associated with MIDI value\n",
    "        \"\"\"\n",
    "        if note == REST:\n",
    "            return 0\n",
    "        letter = NOTES[note[:-2] if note.find('-') > -1 else note[:-1]]\n",
    "        octave = int(note[-2:] if note.find('-') > -1 else note[-1:])\n",
    "        pitch = 12 * (octave + 1) + letter\n",
    "        return 440 * 2 ** ((pitch - 69) / 12)\n",
    "\n",
    "    def calculate_env(self, dur, a=0, d=0, s=1, r=0):\n",
    "        samples = int(self.global_rate * dur)\n",
    "        attack = np.linspace(0, 1, int(self.global_rate * a))\n",
    "        decay = np.linspace(1, s, int(self.global_rate * d))\n",
    "        if dur < a + d:\n",
    "            env = np.concatenate((attack, decay))\n",
    "            release = np.linspace(env[-1], 0, int(self.global_rate*r))\n",
    "            env = np.concatenate((env[:samples], release))\n",
    "        else:\n",
    "            sussy = np.full(int((dur - a - d) * self.global_rate), s)\n",
    "            release = np.linspace(s, 0, int(self.global_rate*r))\n",
    "            env = np.concatenate([attack, decay, sussy, release])\n",
    "        return env\n",
    "\n",
    "    def num_del(self, audio, ms, mix=0.5, delays=3):\n",
    "        sec = ms / 1000.0\n",
    "        samps = int(delays * sec * self.global_rate)\n",
    "        pad = np.zeros(samps)\n",
    "        dry = np.concatenate((audio, pad), axis=0)\n",
    "        wet = np.zeros(dry.size)\n",
    "        for delay in range(delays):\n",
    "            wet += np.roll(dry, (delay+1)*int(sec*self.global_rate))/(1+delay)\n",
    "        output = (1-mix)*dry + mix*wet\n",
    "        return output\n",
    "\n",
    "    def _bell_base_generator(self, ms=0, delays=0, mix=0.5):\n",
    "        attack, decay, sustain, release = tuple(self.adsr)\n",
    "\n",
    "        I = 2.234\n",
    "        dsr = [decay, sustain, release]\n",
    "        cur_samp = 0\n",
    "        song = np.zeros(int(self.global_rate * (self.length + dsr[2])))\n",
    "\n",
    "        for chord in self.sequence:\n",
    "            dur = chord[1] + dsr[2]\n",
    "            da_chord = np.zeros(int(self.global_rate * dur))\n",
    "            t = np.linspace(0, dur, int(self.global_rate * dur))\n",
    "            for freq in chord[0]:\n",
    "                if freq == 0:\n",
    "                    da_chord+=np.zeros(int(self.global_rate * (chord[1]+dsr[2])))\n",
    "                    break\n",
    "                mod = I * sawtooth(2 * np.pi * freq * (2) * (t + 1 / (freq * 8)), 0.5)\n",
    "                fm = sawtooth(2 * np.pi * freq * (t + 1 / (freq * 4)) + mod, 0.5)\n",
    "                da_chord += fm\n",
    "            \n",
    "            env = self.calculate_env(chord[1], attack, *dsr)\n",
    "            diff1 = len(env) - len(da_chord)\n",
    "            if diff1 > 0:\n",
    "                env = env[diff1:]\n",
    "            elif diff1 < 0:\n",
    "                env = np.concatenate((np.zeros(-diff1), env))\n",
    "            env *= da_chord\n",
    "            pad = np.concatenate((env, np.zeros(int(int(self.length * self.global_rate) - self.global_rate * chord[1]))))\n",
    "            rolled = np.roll(pad, cur_samp)\n",
    "            cur_samp += int(chord[1] * self.global_rate)\n",
    "            diff = len(song) - len(rolled)\n",
    "            if diff == 1:\n",
    "                rolled = np.concatenate((np.array([0]), rolled))\n",
    "            elif diff == -1:\n",
    "                rolled = rolled[1:]\n",
    "            song += rolled\n",
    "        delayed = self.num_del(song, ms, mix=mix, delays=delays) \n",
    "        if self.rev:\n",
    "            delayed = delayed[::-1]\n",
    "        return delayed\n",
    "    \n",
    "    def generate_audio(self):\n",
    "        if self.file:\n",
    "            return Audio(self._bell_base_generator(), rate=self.global_rate)\n",
    "        else:\n",
    "            print(\"File has not been selected.\")\n",
    "        "
   ]
  },
  {
   "cell_type": "code",
   "execution_count": 3,
   "id": "dda38db8f2d18391",
   "metadata": {
    "ExecuteTime": {
     "end_time": "2024-03-07T00:29:21.366473Z",
     "start_time": "2024-03-07T00:29:21.312494Z"
    },
    "collapsed": false,
    "jupyter": {
     "outputs_hidden": false
    }
   },
   "outputs": [
    {
     "data": {
      "application/vnd.jupyter.widget-view+json": {
       "model_id": "76c650dbe73e4615818101c00794300e",
       "version_major": 2,
       "version_minor": 0
      },
      "text/plain": [
       "Label(value='Sound')"
      ]
     },
     "metadata": {},
     "output_type": "display_data"
    },
    {
     "data": {
      "application/vnd.jupyter.widget-view+json": {
       "model_id": "d32aae73e3de46c0b986d6c49825ed28",
       "version_major": 2,
       "version_minor": 0
      },
      "text/plain": [
       "Label(value='Envelope')"
      ]
     },
     "metadata": {},
     "output_type": "display_data"
    },
    {
     "data": {
      "application/vnd.jupyter.widget-view+json": {
       "model_id": "8f6eab3af7a74283975f4e9b6147b7a0",
       "version_major": 2,
       "version_minor": 0
      },
      "text/plain": [
       "interactive(children=(FloatSlider(value=0.0, continuous_update=False, description='Attack:', max=1.0, step=0.0…"
      ]
     },
     "metadata": {},
     "output_type": "display_data"
    },
    {
     "data": {
      "application/vnd.jupyter.widget-view+json": {
       "model_id": "ec8550bd569d40b4a2ccdfd942de4ea9",
       "version_major": 2,
       "version_minor": 0
      },
      "text/plain": [
       "interactive(children=(FloatSlider(value=0.0, continuous_update=False, description='Decay:', max=5.0, step=0.01…"
      ]
     },
     "metadata": {},
     "output_type": "display_data"
    },
    {
     "data": {
      "application/vnd.jupyter.widget-view+json": {
       "model_id": "e9ac32aaaf634bd8ba00ae4d380aaa68",
       "version_major": 2,
       "version_minor": 0
      },
      "text/plain": [
       "interactive(children=(FloatSlider(value=1.0, continuous_update=False, description='Sustain:', max=1.0, step=0.…"
      ]
     },
     "metadata": {},
     "output_type": "display_data"
    },
    {
     "data": {
      "application/vnd.jupyter.widget-view+json": {
       "model_id": "d27d93c460ca48d1a6d6b3481ebe048c",
       "version_major": 2,
       "version_minor": 0
      },
      "text/plain": [
       "interactive(children=(FloatSlider(value=0.0, continuous_update=False, description='Release:', max=5.0, step=0.…"
      ]
     },
     "metadata": {},
     "output_type": "display_data"
    },
    {
     "data": {
      "application/vnd.jupyter.widget-view+json": {
       "model_id": "53ce6e53d4a54678a7be633639da3740",
       "version_major": 2,
       "version_minor": 0
      },
      "text/plain": [
       "Label(value='FX')"
      ]
     },
     "metadata": {},
     "output_type": "display_data"
    },
    {
     "data": {
      "application/vnd.jupyter.widget-view+json": {
       "model_id": "bc8afa712e4445b29cedda4e9a178e2c",
       "version_major": 2,
       "version_minor": 0
      },
      "text/plain": [
       "interactive(children=(ToggleButton(value=False, description='Reverse Audio', tooltip='Reverse the sequence'), …"
      ]
     },
     "metadata": {},
     "output_type": "display_data"
    },
    {
     "data": {
      "application/vnd.jupyter.widget-view+json": {
       "model_id": "10d0049179534bd9aa9077b2d6c54c5c",
       "version_major": 2,
       "version_minor": 0
      },
      "text/plain": [
       "Label(value='Score')"
      ]
     },
     "metadata": {},
     "output_type": "display_data"
    },
    {
     "data": {
      "application/vnd.jupyter.widget-view+json": {
       "model_id": "965cf2142220445c8da92168ff0783eb",
       "version_major": 2,
       "version_minor": 0
      },
      "text/plain": [
       "interactive(children=(IntSlider(value=120, continuous_update=False, description='BPM:', max=240, min=60), Outp…"
      ]
     },
     "metadata": {},
     "output_type": "display_data"
    },
    {
     "data": {
      "application/vnd.jupyter.widget-view+json": {
       "model_id": "4d14ed4639eb452fbe0cfefee04780c0",
       "version_major": 2,
       "version_minor": 0
      },
      "text/plain": [
       "interactive(children=(Dropdown(description='Score file:', options=('Select an option', 'demo.txt', 'arp.txt', …"
      ]
     },
     "metadata": {},
     "output_type": "display_data"
    },
    {
     "data": {
      "application/vnd.jupyter.widget-view+json": {
       "model_id": "5c7a251b04dd44b6b03d52a87c7f4b52",
       "version_major": 2,
       "version_minor": 0
      },
      "text/plain": [
       "interactive(children=(ToggleButton(value=False, description='Generate audio'), Output()), _dom_classes=('widge…"
      ]
     },
     "metadata": {},
     "output_type": "display_data"
    }
   ],
   "source": [
    "class SynthUI:\n",
    "    text_files: list[str]\n",
    "    synth: Synth\n",
    "\n",
    "    def __init__(self, synth):\n",
    "        self.synth = synth\n",
    "        self.text_files = list(file for file in os.listdir('.') if file[-4:] == '.txt')\n",
    "        \n",
    "        self.bpm_slider = widgets.IntSlider(\n",
    "            value=self.synth.bpm,\n",
    "            min=60,\n",
    "            max=240,\n",
    "            step=1,\n",
    "            description='BPM:',\n",
    "            continuous_update=False\n",
    "        )\n",
    "        self.bpm_slider.observe(lambda delta: self.synth.set_bpm(delta['new']), 'value')\n",
    "        \n",
    "        \n",
    "        # Envelope\n",
    "        adsr_labels = [('Attack:', 1), ('Decay:', 5), ('Sustain:', 1), ('Release:', 5)]\n",
    "        self.adsr_sliders = [\n",
    "            widgets.FloatSlider(\n",
    "                value=getattr(self.synth, 'adsr')[i],\n",
    "                min=0,\n",
    "                max=val,\n",
    "                step=0.01,\n",
    "                description=label,\n",
    "                continuous_update=False\n",
    "            ) for i, (label, val) in enumerate(adsr_labels)\n",
    "        ]\n",
    "\n",
    "        # Reversed\n",
    "        self.rev_toggle = widgets.ToggleButton(\n",
    "            value=self.synth.rev,\n",
    "            description='Reverse Audio',\n",
    "            tooltip='Reverse the sequence'\n",
    "        )        \n",
    "        \n",
    "        # Delay\n",
    "        self.del_length_slider = widgets.IntSlider(\n",
    "            value=self.synth.bpm,\n",
    "            min=60,\n",
    "            max=240,\n",
    "            step=1,\n",
    "            description='BPM:',\n",
    "            continuous_update=False\n",
    "        )\n",
    "        \n",
    "        # File Selection\n",
    "        self.file_dropdown = widgets.Dropdown(\n",
    "            options=[DEFAULT_DROPDOWN] + self.text_files,\n",
    "            value=DEFAULT_DROPDOWN,\n",
    "            description='Score file:',\n",
    "        )\n",
    "        \n",
    "        self.activate_button = widgets.ToggleButton(value=False, description=\"Generate audio\")\n",
    "        \n",
    "        # display(self.bpm_slider, self.rev_toggle, *self.adsr_sliders, self.file_dropdown, self.activate_button)\n",
    "        self.display_ui()\n",
    "        \n",
    "    def display_ui(self):\n",
    "        display(widgets.Label(\"Sound\"))\n",
    "        display(widgets.Label(\"Envelope\"))\n",
    "        for slider in self.adsr_sliders:\n",
    "            interact(self.update_adsr, active=slider)\n",
    "        display(widgets.Label(\"FX\"))\n",
    "        interact(self.synth.set_reversed, rev=self.rev_toggle)\n",
    "        display(widgets.Label(\"Score\"))\n",
    "        interact(self.synth.set_bpm, bpm=self.bpm_slider)\n",
    "        interact(self.synth.set_sequence, file_path=self.file_dropdown)\n",
    "        interact(self.activate, state=self.activate_button)\n",
    "    \n",
    "    def update_adsr(self, active):\n",
    "        if active:\n",
    "            self.synth.set_adsr(*[slider.value for slider in self.adsr_sliders])\n",
    "    \n",
    "    def activate(self, state):\n",
    "        if state:\n",
    "            res = self.synth.generate_audio()\n",
    "            if res:\n",
    "                display(res)\n",
    "            # self.activate_button.value = False\n",
    "\n",
    "synth_ui = SynthUI(Synth())"
   ]
  },
  {
   "cell_type": "code",
   "execution_count": null,
   "id": "702c29a907e347c8",
   "metadata": {
    "collapsed": false,
    "jupyter": {
     "outputs_hidden": false
    }
   },
   "outputs": [],
   "source": []
  }
 ],
 "metadata": {
  "kernelspec": {
   "display_name": "Python 3 (ipykernel)",
   "language": "python",
   "name": "python3"
  },
  "language_info": {
   "codemirror_mode": {
    "name": "ipython",
    "version": 3
   },
   "file_extension": ".py",
   "mimetype": "text/x-python",
   "name": "python",
   "nbconvert_exporter": "python",
   "pygments_lexer": "ipython3",
   "version": "3.9.18"
  }
 },
 "nbformat": 4,
 "nbformat_minor": 5
}
